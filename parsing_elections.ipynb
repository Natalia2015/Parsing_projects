{
 "cells": [
  {
   "cell_type": "code",
   "execution_count": 1,
   "metadata": {},
   "outputs": [],
   "source": [
    "import pandas as pd"
   ]
  },
  {
   "cell_type": "code",
   "execution_count": 2,
   "metadata": {},
   "outputs": [],
   "source": [
    "import requests\n",
    "import re"
   ]
  },
  {
   "cell_type": "code",
   "execution_count": 3,
   "metadata": {},
   "outputs": [],
   "source": [
    "from bs4 import BeautifulSoup"
   ]
  },
  {
   "cell_type": "code",
   "execution_count": 4,
   "metadata": {},
   "outputs": [],
   "source": [
    "#json is simplejson, added to the stdlib. since json was added in 2.6, simplejson has the advantage of working on more Python versions (2.4+).\n",
    "import simplejson\n",
    "import json"
   ]
  },
  {
   "cell_type": "code",
   "execution_count": 5,
   "metadata": {},
   "outputs": [],
   "source": [
    "import time\n",
    "from time import sleep"
   ]
  },
  {
   "cell_type": "code",
   "execution_count": 26,
   "metadata": {},
   "outputs": [],
   "source": [
    "#extract data from one election zone\n",
    "def json_to_df(N):\n",
    "        link1_1=\"https://www.drv.gov.ua/portal/!cm_core.cm_index?option=ext_dvk&pid100=5&pf5242=0\"\n",
    "        link1_2=str(N)\n",
    "        link1_3=\"&prejim=3\"\n",
    "        link1=\"%s%s%s\" % (link1_1, link1_2, link1_3) \n",
    "        r_elections=requests.get(link1,timeout=15)\n",
    "        link2_1=\"https://www.drv.gov.ua/portal/\"\n",
    "        link2_2=str(re.findall('gis.+Math\\.random', r_elections.text))[3:-2]\n",
    "        link2=\"%s%s\" % (link2_1, link2_2)\n",
    "        print link2\n",
    "        HeadersDict = {\n",
    "                  'User-Agent': 'Mozilla/5.0 (Windows NT 6.1; WOW64; rv:40.0) Gecko/20100101 Firefox/46.0.1'\n",
    "                 }\n",
    "        try:\n",
    "            time.sleep(2)\n",
    "            content = requests.get(link2,headers = HeadersDict).json()\n",
    "            Temp_dict = [{'Nomer': N, 'PolygonCoordinates': content[u'features'][0][u'geometry'][u'coordinates'][0], 'PointCoordinates1': content[u'features'][1][u'geometry'][u'coordinates'], 'PointCoordinates2': content[u'features'][2][u'geometry'][u'coordinates']}]\n",
    "            local_df = pd.DataFrame(Temp_dict,index=None)\n",
    "        except ValueError:\n",
    "            Temp_dict = [{'Nomer': N, 'PolygonCoordinates': 'No Data', 'PointCoordinates1': 'No Data', 'PointCoordinates2': 'No data'}]\n",
    "            local_df = pd.DataFrame(Temp_dict,index=None)\n",
    "        return local_df"
   ]
  },
  {
   "cell_type": "code",
   "execution_count": 27,
   "metadata": {},
   "outputs": [
    {
     "name": "stdout",
     "output_type": "stream",
     "text": [
      "https://www.drv.gov.ua/portal/gis$core.Gis_DistrPoly?p_f5241=9206&ts=\"+Math.random\n",
      "    Nomer               PointCoordinates1               PointCoordinates2  \\\n",
      "0  180952  [29.2754732404, 50.6446003226]  [29.2816959653, 50.6406813639]   \n",
      "\n",
      "                                  PolygonCoordinates  \n",
      "0  [[29.2495255172, 50.6429897621], [29.248679280...  \n"
     ]
    }
   ],
   "source": [
    "print json_to_df(180952)"
   ]
  },
  {
   "cell_type": "code",
   "execution_count": null,
   "metadata": {},
   "outputs": [],
   "source": [
    "#create the main dataframe\n",
    "dilnitsi=pd.DataFrame(columns=['Nomer','PolygonCoordinates','PointCoordinates1','PointCoordinates2'])"
   ]
  },
  {
   "cell_type": "code",
   "execution_count": 9,
   "metadata": {},
   "outputs": [],
   "source": [
    "#appends the single dataframe row to the main dataframe where i denotes the number of the election zone-dilnitsa\n",
    "for i in range(180951,180953):\n",
    "    k=json_to_df(i)\n",
    "    dilnitsi=dilnitsi.append(k,ignore_index=True)"
   ]
  },
  {
   "cell_type": "code",
   "execution_count": 10,
   "metadata": {},
   "outputs": [],
   "source": [
    "#Here you may use your output name and destination for the .csv file\n",
    "dilnitsi.to_csv(\"File_name.csv\", index=False)"
   ]
  }
 ],
 "metadata": {
  "kernelspec": {
   "display_name": "Python 2",
   "language": "python",
   "name": "python2"
  },
  "language_info": {
   "codemirror_mode": {
    "name": "ipython",
    "version": 2
   },
   "file_extension": ".py",
   "mimetype": "text/x-python",
   "name": "python",
   "nbconvert_exporter": "python",
   "pygments_lexer": "ipython2",
   "version": "2.7.13"
  }
 },
 "nbformat": 4,
 "nbformat_minor": 2
}
